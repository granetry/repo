{
 "cells": [
  {
   "cell_type": "code",
   "execution_count": 4,
   "metadata": {},
   "outputs": [],
   "source": [
    "import pandas as pd\n",
    "import seaborn as sn\n",
    "import numpy as np\n",
    "import matplotlib.pyplot as plt\n",
    "%matplotlib inline"
   ]
  },
  {
   "cell_type": "code",
   "execution_count": 5,
   "metadata": {
    "scrolled": true
   },
   "outputs": [],
   "source": [
    "# Let n = income\n",
    "n = 15000\n",
    "\n",
    "# Let single = standard deduction for a person of a certain status\n",
    "single = 12200\n",
    "Married_joint = 24400\n",
    "married_sep = 12200\n",
    "HoH = 18350\n",
    "\n",
    "# Amount of money taxed in this bracket\n",
    "b1 = []\n",
    "\n",
    "# Let taxable = income minus the deduction status\n",
    "taxable = n - single\n",
    "\n",
    "# tax_paid to be set to zero. Holds total amount paid in taxes based on income and deduction\n",
    "tax_paid = 0\n",
    "\n",
    "# Loop to deduct tax from each dollar and add to tax_paid\n",
    "for value in range(taxable):\n",
    "    if value > 0 and value < 9701:\n",
    "        net = 1 * 0.1\n",
    "        tax_paid += net\n",
    "        b1.append(value)\n",
    "    elif value > 9700 and value < 39476:\n",
    "            net = 1 * 0.12\n",
    "            tax_paid += net\n",
    "    elif value > 39475 and value < 84201:\n",
    "            net = 1 * 0.22\n",
    "            tax_paid += net\n",
    "    elif value > 84200 and value < 160726:\n",
    "            net = 1 * 0.24\n",
    "            tax_paid += net\n",
    "    elif value > 160725 and value < 204101:\n",
    "            net = 1 * 0.32\n",
    "            tax_paid += net\n",
    "    elif value > 204100 and value < 510301:\n",
    "            net = 1 * 0.35\n",
    "            tax_paid += net\n",
    "    else:\n",
    "        value > 510300\n",
    "        net = 1 * 0.37\n",
    "        tax_paid += net\n",
    "\n",
    "# Amount of money deducted in the first tax bracket\n",
    "bracket_paid = len(b1) * 0.1"
   ]
  },
  {
   "cell_type": "code",
   "execution_count": 10,
   "metadata": {},
   "outputs": [],
   "source": [
    "# Function to calculate Federal taxes. \n",
    "# Let n = income and s = deduction status\n",
    "def Federal(n, s):\n",
    "\n",
    "# Amount of money taxed in this bracket\n",
    "    b1 = []\n",
    "\n",
    "# Let taxable = income minus the deduction status\n",
    "    taxable = n - s\n",
    "\n",
    "# tax_paid to be set to zero. Holds total amount paid in taxes based on income and deduction\n",
    "    tax_paid = 0\n",
    "\n",
    "# Loop to deduct tax from each dollar and add to tax_paid\n",
    "    for value in range(taxable):\n",
    "        if value > 0 and value < 9701:\n",
    "            net = 1 * 0.1\n",
    "            tax_paid += net\n",
    "            b1.append(value)\n",
    "        elif value > 9700 and value < 39476:\n",
    "                net = 1 * 0.12\n",
    "                tax_paid += net\n",
    "        elif value > 39475 and value < 84201:\n",
    "                net = 1 * 0.22\n",
    "                tax_paid += net\n",
    "        elif value > 84200 and value < 160726:\n",
    "                net = 1 * 0.24\n",
    "                tax_paid += net\n",
    "        elif value > 160725 and value < 204101:\n",
    "                net = 1 * 0.32\n",
    "                tax_paid += net\n",
    "        elif value > 204100 and value < 510301:\n",
    "                net = 1 * 0.35\n",
    "                tax_paid += net\n",
    "        else:\n",
    "            value > 510300\n",
    "            net = 1 * 0.37\n",
    "            tax_paid += net\n",
    "    return print('Income: $',n), print('Taxable income: $',taxable), print('Tax paid: $',round(tax_paid,2))"
   ]
  },
  {
   "cell_type": "code",
   "execution_count": 13,
   "metadata": {},
   "outputs": [
    {
     "name": "stdout",
     "output_type": "stream",
     "text": [
      "Income: $ 46000\n",
      "Taxable income: $ 33800\n",
      "Tax paid: $ 3862.25\n"
     ]
    },
    {
     "data": {
      "text/plain": [
       "(None, None, None)"
      ]
     },
     "execution_count": 13,
     "metadata": {},
     "output_type": "execute_result"
    }
   ],
   "source": [
    "Federal(46000, single)"
   ]
  },
  {
   "cell_type": "code",
   "execution_count": 80,
   "metadata": {},
   "outputs": [
    {
     "name": "stdout",
     "output_type": "stream",
     "text": [
      "Income: 15000\n",
      "Taxable income: 2800\n",
      "Tax paid: 280.27\n"
     ]
    }
   ],
   "source": [
    "print('Income:', n)\n",
    "print('Taxable income:',taxable)\n",
    "print('Tax paid:', round(tax_paid,2))"
   ]
  },
  {
   "cell_type": "code",
   "execution_count": 56,
   "metadata": {},
   "outputs": [
    {
     "name": "stdout",
     "output_type": "stream",
     "text": [
      "Tax rate: 10.0096 %\n"
     ]
    }
   ],
   "source": [
    "percent = (tax_paid / taxable) * 100\n",
    "data = [n ,taxable, round(tax_paid,2)]\n",
    "\n",
    "print('Tax rate:', round(percent,4),'%')"
   ]
  },
  {
   "cell_type": "code",
   "execution_count": 94,
   "metadata": {},
   "outputs": [
    {
     "data": {
      "image/png": "[encoded data removed]",
      "text/plain": [
       "<Figure size 576x360 with 1 Axes>"
      ]
     },
     "metadata": {
      "needs_background": "light"
     },
     "output_type": "display_data"
    }
   ],
   "source": [
    "x = np.arange(3)\n",
    "\n",
    "plt.figure(figsize=(8,5))\n",
    "plt.bar(x, data, width = .6)\n",
    "plt.xticks(x, ('Income', 'Taxable Income', 'Tax Paid'))\n",
    "plt.yticks(np.arange(0, n+ n*0.1, step= n / 5))\n",
    "plt.title('Taxation Breakdown', fontsize = 15)\n",
    "plt.ylabel('Dollars ($USD)', fontsize = 13)\n",
    "plt.xlabel('Category', fontsize = 13)\n",
    "plt.grid()"
   ]
  },
  {
   "cell_type": "code",
   "execution_count": 58,
   "metadata": {},
   "outputs": [],
   "source": [
    "pay_bi = (n / 52) * 2\n",
    "\n",
    "Sal_bi = 52 / 2 * pay_bi"
   ]
  },
  {
   "cell_type": "code",
   "execution_count": 59,
   "metadata": {},
   "outputs": [
    {
     "data": {
      "text/plain": [
       "576.9230769230769"
      ]
     },
     "execution_count": 59,
     "metadata": {},
     "output_type": "execute_result"
    }
   ],
   "source": [
    "pay_bi"
   ]
  },
  {
   "cell_type": "code",
   "execution_count": 60,
   "metadata": {},
   "outputs": [
    {
     "name": "stdout",
     "output_type": "stream",
     "text": [
      "Expected Taxation Per Paycheck: $ 10.78\n"
     ]
    }
   ],
   "source": [
    "tax_per_bi = round((tax_paid / 52) * 2, 2)\n",
    "print('Expected Taxation Per Paycheck: $',tax_per_bi)"
   ]
  },
  {
   "cell_type": "code",
   "execution_count": 61,
   "metadata": {},
   "outputs": [
    {
     "data": {
      "text/plain": [
       "566.1430769230769"
      ]
     },
     "execution_count": 61,
     "metadata": {},
     "output_type": "execute_result"
    }
   ],
   "source": [
    "take_bi = pay_bi - tax_per_bi\n",
    "take_bi"
   ]
  },
  {
   "cell_type": "code",
   "execution_count": 64,
   "metadata": {},
   "outputs": [
    {
     "data": {
      "text/plain": [
       "14719.730000000005"
      ]
     },
     "execution_count": 64,
     "metadata": {},
     "output_type": "execute_result"
    }
   ],
   "source": [
    "j = n - tax_paid\n",
    "j"
   ]
  },
  {
   "cell_type": "code",
   "execution_count": 65,
   "metadata": {},
   "outputs": [
    {
     "data": {
      "text/plain": [
       "279.90000000000003"
      ]
     },
     "execution_count": 65,
     "metadata": {},
     "output_type": "execute_result"
    }
   ],
   "source": [
    "bracket_paid"
   ]
  }
 ],
 "metadata": {
  "kernelspec": {
   "display_name": "Python 3",
   "language": "python",
   "name": "python3"
  },
  "language_info": {
   "codemirror_mode": {
    "name": "ipython",
    "version": 3
   },
   "file_extension": ".py",
   "mimetype": "text/x-python",
   "name": "python",
   "nbconvert_exporter": "python",
   "pygments_lexer": "ipython3",
   "version": "3.7.4"
  }
 },
 "nbformat": 4,
 "nbformat_minor": 2
}
