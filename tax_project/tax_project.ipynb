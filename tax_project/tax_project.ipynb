{
 "cells": [
  {
   "cell_type": "code",
   "execution_count": 101,
   "metadata": {},
   "outputs": [],
   "source": [
    "import numpy as np\n",
    "import matplotlib.pyplot as plt\n",
    "%matplotlib inline"
   ]
  },
  {
   "cell_type": "code",
   "execution_count": 102,
   "metadata": {
    "scrolled": true
   },
   "outputs": [],
   "source": [
    "# Let n = income\n",
    "n = 15000\n",
    "\n",
    "# Let single = standard deduction for a person of a certain status\n",
    "single = 12200\n",
    "Married_joint = 24400\n",
    "married_sep = 12200\n",
    "HoH = 18350\n",
    "\n",
    "# Amount of money taxed in this bracket\n",
    "b1 = []\n",
    "\n",
    "# Let taxable = income minus the deduction status\n",
    "taxable = n - single\n",
    "\n",
    "# tax_paid to be set to zero. Holds total amount paid in taxes based on income and deduction\n",
    "tax_paid = 0\n",
    "\n",
    "# Loop to deduct tax from each dollar and add to tax_paid\n",
    "for value in range(taxable):\n",
    "    if value > 0 and value < 9701:\n",
    "        net = 1 * 0.1\n",
    "        tax_paid += net\n",
    "        b1.append(value)\n",
    "    elif value > 9700 and value < 39476:\n",
    "            net = 1 * 0.12\n",
    "            tax_paid += net\n",
    "    elif value > 39475 and value < 84201:\n",
    "            net = 1 * 0.22\n",
    "            tax_paid += net\n",
    "    elif value > 84200 and value < 160726:\n",
    "            net = 1 * 0.24\n",
    "            tax_paid += net\n",
    "    elif value > 160725 and value < 204101:\n",
    "            net = 1 * 0.32\n",
    "            tax_paid += net\n",
    "    elif value > 204100 and value < 510301:\n",
    "            net = 1 * 0.35\n",
    "            tax_paid += net\n",
    "    else:\n",
    "        value > 510300\n",
    "        net = 1 * 0.37\n",
    "        tax_paid += net\n",
    "\n",
    "# Amount of money deducted in the first tax bracket\n",
    "bracket_paid = len(b1) * 0.1"
   ]
  },
  {
   "cell_type": "code",
   "execution_count": 103,
   "metadata": {},
   "outputs": [],
   "source": [
    "# Function to calculate Federal taxes. \n",
    "# Let n = income and s = deduction status\n",
    "def Federal(n, s):\n",
    "\n",
    "# Amount of money taxed in this bracket\n",
    "    b1 = []\n",
    "\n",
    "# Let taxable = income minus the deduction status\n",
    "    taxable = n - s\n",
    "\n",
    "# fed_paid to be set to zero. Holds total amount paid in taxes based on income and deduction\n",
    "    fed_paid = 0\n",
    "\n",
    "# Loop to deduct tax from each dollar and add to fed_paid\n",
    "    for value in range(taxable):\n",
    "        if value > 0 and value < 9701:\n",
    "            net = 1 * 0.1\n",
    "            fed_paid += net\n",
    "            b1.append(value)\n",
    "        elif value > 9700 and value < 39476:\n",
    "                net = 1 * 0.12\n",
    "                fed_paid += net\n",
    "        elif value > 39475 and value < 84201:\n",
    "                net = 1 * 0.22\n",
    "                fed_paid += net\n",
    "        elif value > 84200 and value < 160726:\n",
    "                net = 1 * 0.24\n",
    "                fed_paid += net\n",
    "        elif value > 160725 and value < 204101:\n",
    "                net = 1 * 0.32\n",
    "                fed_paid += net\n",
    "        elif value > 204100 and value < 510301:\n",
    "                net = 1 * 0.35\n",
    "                fed_paid += net\n",
    "        else:\n",
    "            value > 510300\n",
    "            net = 1 * 0.37\n",
    "            fed_paid += net\n",
    "            \n",
    "    # Save the variables into a list called data        \n",
    "    Fed = [n ,taxable, round(fed_paid,2)]\n",
    "    \n",
    "    # Create an x varaible to use in plotting\n",
    "    x = np.arange(3)\n",
    "    \n",
    "    # Plot the results\n",
    "    #plt.figure(figsize=(8,5))\n",
    "    plt.bar(x, Fed, width = .6, label = 'Federal')\n",
    "    plt.xticks(x, ('Income', 'Taxable Income', 'Tax Paid'))\n",
    "    plt.yticks(np.arange(0, n+ n*0.1, step= n / 5))\n",
    "    plt.title('Taxation Breakdown', fontsize = 15)\n",
    "    plt.ylabel('Dollars ($USD)', fontsize = 13)\n",
    "    plt.xlabel('Category', fontsize = 13)\n",
    "    plt.grid()\n",
    "    \n",
    "    # Print the variables\n",
    "    print('Income: $',n), print('Taxable income: $',taxable), print('Federal Tax: $',round(fed_paid,2))\n",
    "    \n",
    "    return Fed"
   ]
  },
  {
   "cell_type": "code",
   "execution_count": 104,
   "metadata": {},
   "outputs": [],
   "source": [
    "def State(n, s):\n",
    "\n",
    "# Let taxable = income minus the deduction status\n",
    "    taxable = n - s\n",
    "\n",
    "# fed_paid to be set to zero. Holds total amount paid in taxes based on income and deduction\n",
    "    state_paid = 0\n",
    "\n",
    "# Loop to deduct tax from each dollar and add to fed_paid\n",
    "    for value in range(taxable):\n",
    "        if value > 0:\n",
    "            net = 1 * 0.0425\n",
    "            state_paid += net\n",
    "            b1.append(value)\n",
    "        else:\n",
    "            pass\n",
    "        \n",
    "    # Save the variables into a list called data        \n",
    "    state = [0 ,0, round(state_paid,2)]\n",
    "    \n",
    "    # Create an x varaible to use in plotting\n",
    "    x = np.arange(3)\n",
    "    \n",
    "    # Plot the results\n",
    "    #plt.figure(figsize=(8,5))\n",
    "    plt.bar(x, state, width = .6, label = 'State')\n",
    "    plt.xticks(x, ('Income', 'Taxable Income', 'Tax Paid'))\n",
    "    plt.yticks(np.arange(0, n+ n*0.1, step= n / 5))\n",
    "    plt.title('Taxation Breakdown', fontsize = 15)\n",
    "    plt.ylabel('Dollars ($USD)', fontsize = 13)\n",
    "    plt.xlabel('Category', fontsize = 13)\n",
    "    plt.grid()\n",
    "    \n",
    "    # Print the variables\n",
    "    print('State Tax: $',round(state_paid,2))\n",
    "    \n",
    "    return state"
   ]
  },
  {
   "cell_type": "code",
   "execution_count": 105,
   "metadata": {},
   "outputs": [],
   "source": [
    "def Tax(n, s):\n",
    "    plt.figure(figsize=(10,5))\n",
    "    \n",
    "    \n",
    "    f = Federal(n, s)\n",
    "    s = State(n, s)\n",
    "    \n",
    "    total_tax = f[2] + s[2]\n",
    "    \n",
    "    plt.grid()\n",
    "    plt.legend()\n",
    "    \n",
    "    print('Total Tax:',total_tax)\n",
    "    \n",
    "    return "
   ]
  },
  {
   "cell_type": "code",
   "execution_count": 117,
   "metadata": {},
   "outputs": [
    {
     "name": "stdout",
     "output_type": "stream",
     "text": [
      "Income: $ 15000\n",
      "Taxable income: $ 2800\n",
      "Federal Tax: $ 280.27\n",
      "State Tax: $ 118.96\n",
      "Total Tax: 399.22999999999996\n"
     ]
    },
    {
     "data": {
      "image/png": "[encoded data removed]",
      "text/plain": [
       "<Figure size 720x360 with 1 Axes>"
      ]
     },
     "metadata": {
      "needs_background": "light"
     },
     "output_type": "display_data"
    }
   ],
   "source": [
    "Tax(15000, single)"
   ]
  },
  {
   "cell_type": "code",
   "execution_count": 114,
   "metadata": {},
   "outputs": [],
   "source": [
    "#tax_per_bi = round((fed_paid / 52) * 2, 2)\n",
    "#print('Expected Taxation Per Paycheck: $',tax_per_bi)\n",
    "#percent = (fed_paid / taxable) * 100\n",
    "#Fed = [n ,taxable, round(fed_paid,2)]\n",
    "\n",
    "#print('Tax rate:', round(percent,4),'%')"
   ]
  }
 ],
 "metadata": {
  "kernelspec": {
   "display_name": "Python 3",
   "language": "python",
   "name": "python3"
  },
  "language_info": {
   "codemirror_mode": {
    "name": "ipython",
    "version": 3
   },
   "file_extension": ".py",
   "mimetype": "text/x-python",
   "name": "python",
   "nbconvert_exporter": "python",
   "pygments_lexer": "ipython3",
   "version": "3.7.4"
  }
 },
 "nbformat": 4,
 "nbformat_minor": 2
}
