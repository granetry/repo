{
 "cells": [
  {
   "cell_type": "code",
   "execution_count": 1,
   "metadata": {},
   "outputs": [],
   "source": [
    "import pandas as pd\n",
    "import seaborn as sn\n",
    "import numpy as np\n",
    "import matplotlib.pyplot as plt\n",
    "%matplotlib inline"
   ]
  },
  {
   "cell_type": "code",
   "execution_count": 2,
   "metadata": {
    "scrolled": true
   },
   "outputs": [],
   "source": [
    "# Let n = income\n",
    "n = 15000\n",
    "\n",
    "# Let single = standard deduction for a person of a certain status\n",
    "single = 12200\n",
    "Married_joint = 24400\n",
    "married_sep = 12200\n",
    "HoH = 18350\n",
    "\n",
    "# Amount of money taxed in this bracket\n",
    "b1 = []\n",
    "\n",
    "# Let taxable = income minus the deduction status\n",
    "taxable = n - single\n",
    "\n",
    "# tax_paid to be set to zero. Holds total amount paid in taxes based on income and deduction\n",
    "tax_paid = 0\n",
    "\n",
    "# Loop to deduct tax from each dollar and add to tax_paid\n",
    "for value in range(taxable):\n",
    "    if value > 0 and value < 9701:\n",
    "        net = 1 * 0.1\n",
    "        tax_paid += net\n",
    "        b1.append(value)\n",
    "    elif value > 9700 and value < 39476:\n",
    "            net = 1 * 0.12\n",
    "            tax_paid += net\n",
    "    elif value > 39475 and value < 84201:\n",
    "            net = 1 * 0.22\n",
    "            tax_paid += net\n",
    "    elif value > 84200 and value < 160726:\n",
    "            net = 1 * 0.24\n",
    "            tax_paid += net\n",
    "    elif value > 160725 and value < 204101:\n",
    "            net = 1 * 0.32\n",
    "            tax_paid += net\n",
    "    elif value > 204100 and value < 510301:\n",
    "            net = 1 * 0.35\n",
    "            tax_paid += net\n",
    "    else:\n",
    "        value > 510300\n",
    "        net = 1 * 0.37\n",
    "        tax_paid += net\n",
    "\n",
    "# Amount of money deducted in the first tax bracket\n",
    "bracket_paid = len(b1) * 0.1"
   ]
  },
  {
   "cell_type": "code",
   "execution_count": 52,
   "metadata": {},
   "outputs": [],
   "source": [
    "# Function to calculate Federal taxes. \n",
    "# Let n = income and s = deduction status\n",
    "def Federal(n, s):\n",
    "\n",
    "# Amount of money taxed in this bracket\n",
    "    b1 = []\n",
    "\n",
    "# Let taxable = income minus the deduction status\n",
    "    taxable = n - s\n",
    "\n",
    "# fed_paid to be set to zero. Holds total amount paid in taxes based on income and deduction\n",
    "    fed_paid = 0\n",
    "\n",
    "# Loop to deduct tax from each dollar and add to fed_paid\n",
    "    for value in range(taxable):\n",
    "        if value > 0 and value < 9701:\n",
    "            net = 1 * 0.1\n",
    "            fed_paid += net\n",
    "            b1.append(value)\n",
    "        elif value > 9700 and value < 39476:\n",
    "                net = 1 * 0.12\n",
    "                fed_paid += net\n",
    "        elif value > 39475 and value < 84201:\n",
    "                net = 1 * 0.22\n",
    "                fed_paid += net\n",
    "        elif value > 84200 and value < 160726:\n",
    "                net = 1 * 0.24\n",
    "                fed_paid += net\n",
    "        elif value > 160725 and value < 204101:\n",
    "                net = 1 * 0.32\n",
    "                fed_paid += net\n",
    "        elif value > 204100 and value < 510301:\n",
    "                net = 1 * 0.35\n",
    "                fed_paid += net\n",
    "        else:\n",
    "            value > 510300\n",
    "            net = 1 * 0.37\n",
    "            fed_paid += net\n",
    "            \n",
    "    # Save the variables into a list called data        \n",
    "    Fed = [n ,taxable, round(fed_paid,2)]\n",
    "    \n",
    "    # Create an x varaible to use in plotting\n",
    "    x = np.arange(3)\n",
    "    \n",
    "    # Plot the results\n",
    "    #plt.figure(figsize=(8,5))\n",
    "    plt.bar(x, Fed, width = .6, label = 'Federal')\n",
    "    plt.xticks(x, ('Income', 'Taxable Income', 'Tax Paid'))\n",
    "    plt.yticks(np.arange(0, n+ n*0.1, step= n / 5))\n",
    "    plt.title('Taxation Breakdown', fontsize = 15)\n",
    "    plt.ylabel('Dollars ($USD)', fontsize = 13)\n",
    "    plt.xlabel('Category', fontsize = 13)\n",
    "    plt.grid()\n",
    "    \n",
    "    # Print the variables\n",
    "    print('Income: $',n), print('Taxable income: $',taxable), print('Federal Tax: $',round(fed_paid,2))\n",
    "    \n",
    "    return Fed"
   ]
  },
  {
   "cell_type": "code",
   "execution_count": 53,
   "metadata": {},
   "outputs": [
    {
     "name": "stdout",
     "output_type": "stream",
     "text": [
      "Income: $ 20000\n",
      "Taxable income: $ 7800\n",
      "Federal Tax: $ 780.27\n"
     ]
    },
    {
     "data": {
      "text/plain": [
       "[20000, 7800, 780.27]"
      ]
     },
     "execution_count": 53,
     "metadata": {},
     "output_type": "execute_result"
    },
    {
     "data": {
      "image/png": "[encoded data removed]",
      "text/plain": [
       "<Figure size 432x288 with 1 Axes>"
      ]
     },
     "metadata": {
      "needs_background": "light"
     },
     "output_type": "display_data"
    }
   ],
   "source": [
    "Federal(20000, single)"
   ]
  },
  {
   "cell_type": "code",
   "execution_count": 58,
   "metadata": {},
   "outputs": [],
   "source": [
    "## State Taxes\n",
    "\n",
    "state_paid = 0\n",
    "\n",
    "for value in range(taxable):\n",
    "    if 0 < value:\n",
    "        net = 1 * 0.0425\n",
    "        state_paid += net"
   ]
  },
  {
   "cell_type": "code",
   "execution_count": 56,
   "metadata": {},
   "outputs": [],
   "source": [
    "def State(n, s):\n",
    "\n",
    "# Let taxable = income minus the deduction status\n",
    "    taxable = n - s\n",
    "\n",
    "# fed_paid to be set to zero. Holds total amount paid in taxes based on income and deduction\n",
    "    state_paid = 0\n",
    "\n",
    "# Loop to deduct tax from each dollar and add to fed_paid\n",
    "    for value in range(taxable):\n",
    "        if value > 0:\n",
    "            net = 1 * 0.0425\n",
    "            state_paid += net\n",
    "            b1.append(value)\n",
    "        else:\n",
    "            pass\n",
    "        \n",
    "    # Save the variables into a list called data        \n",
    "    state = [0 ,0, round(state_paid,2)]\n",
    "    \n",
    "    # Create an x varaible to use in plotting\n",
    "    x = np.arange(3)\n",
    "    \n",
    "    # Plot the results\n",
    "    #plt.figure(figsize=(8,5))\n",
    "    plt.bar(x, state, width = .6, label = 'State')\n",
    "    plt.xticks(x, ('Income', 'Taxable Income', 'Tax Paid'))\n",
    "    plt.yticks(np.arange(0, n+ n*0.1, step= n / 5))\n",
    "    plt.title('Taxation Breakdown', fontsize = 15)\n",
    "    plt.ylabel('Dollars ($USD)', fontsize = 13)\n",
    "    plt.xlabel('Category', fontsize = 13)\n",
    "    plt.grid()\n",
    "    \n",
    "    # Print the variables\n",
    "    print('State Tax: $',round(state_paid,2))\n",
    "    \n",
    "    return state"
   ]
  },
  {
   "cell_type": "code",
   "execution_count": 57,
   "metadata": {},
   "outputs": [
    {
     "name": "stdout",
     "output_type": "stream",
     "text": [
      "State Tax: $ 968.96\n"
     ]
    },
    {
     "data": {
      "text/plain": [
       "[0, 0, 968.96]"
      ]
     },
     "execution_count": 57,
     "metadata": {},
     "output_type": "execute_result"
    },
    {
     "data": {
      "image/png": "[encoded data removed]",
      "text/plain": [
       "<Figure size 432x288 with 1 Axes>"
      ]
     },
     "metadata": {
      "needs_background": "light"
     },
     "output_type": "display_data"
    }
   ],
   "source": [
    "State(35000, single)"
   ]
  },
  {
   "cell_type": "code",
   "execution_count": 9,
   "metadata": {},
   "outputs": [
    {
     "ename": "NameError",
     "evalue": "name 'Fed' is not defined",
     "output_type": "error",
     "traceback": [
      "\u001b[1;31m---------------------------------------------------------------------------\u001b[0m",
      "\u001b[1;31mNameError\u001b[0m                                 Traceback (most recent call last)",
      "\u001b[1;32m<ipython-input-9-3eba6db60012>\u001b[0m in \u001b[0;36m<module>\u001b[1;34m\u001b[0m\n\u001b[0;32m      3\u001b[0m \u001b[1;33m\u001b[0m\u001b[0m\n\u001b[0;32m      4\u001b[0m \u001b[1;31m#print('Tax rate:', round(percent,4),'%')\u001b[0m\u001b[1;33m\u001b[0m\u001b[1;33m\u001b[0m\u001b[1;33m\u001b[0m\u001b[0m\n\u001b[1;32m----> 5\u001b[1;33m \u001b[0mFed\u001b[0m\u001b[1;33m\u001b[0m\u001b[1;33m\u001b[0m\u001b[0m\n\u001b[0m",
      "\u001b[1;31mNameError\u001b[0m: name 'Fed' is not defined"
     ]
    }
   ],
   "source": [
    "#percent = (fed_paid / taxable) * 100\n",
    "#Fed = [n ,taxable, round(fed_paid,2)]\n",
    "\n",
    "#print('Tax rate:', round(percent,4),'%')\n",
    "Fed"
   ]
  },
  {
   "cell_type": "code",
   "execution_count": 58,
   "metadata": {},
   "outputs": [],
   "source": [
    "pay_bi = (n / 52) * 2\n",
    "\n",
    "Sal_bi = 52 / 2 * pay_bi"
   ]
  },
  {
   "cell_type": "code",
   "execution_count": 59,
   "metadata": {},
   "outputs": [
    {
     "data": {
      "text/plain": [
       "576.9230769230769"
      ]
     },
     "execution_count": 59,
     "metadata": {},
     "output_type": "execute_result"
    }
   ],
   "source": [
    "pay_bi"
   ]
  },
  {
   "cell_type": "code",
   "execution_count": 60,
   "metadata": {},
   "outputs": [
    {
     "name": "stdout",
     "output_type": "stream",
     "text": [
      "Expected Taxation Per Paycheck: $ 10.78\n"
     ]
    }
   ],
   "source": [
    "tax_per_bi = round((fed_paid / 52) * 2, 2)\n",
    "print('Expected Taxation Per Paycheck: $',tax_per_bi)"
   ]
  },
  {
   "cell_type": "code",
   "execution_count": 61,
   "metadata": {},
   "outputs": [
    {
     "data": {
      "text/plain": [
       "566.1430769230769"
      ]
     },
     "execution_count": 61,
     "metadata": {},
     "output_type": "execute_result"
    }
   ],
   "source": [
    "take_bi = pay_bi - tax_per_bi\n",
    "take_bi"
   ]
  },
  {
   "cell_type": "code",
   "execution_count": 64,
   "metadata": {},
   "outputs": [
    {
     "data": {
      "text/plain": [
       "14719.730000000005"
      ]
     },
     "execution_count": 64,
     "metadata": {},
     "output_type": "execute_result"
    }
   ],
   "source": [
    "j = n - fed_paid\n",
    "j"
   ]
  },
  {
   "cell_type": "code",
   "execution_count": 80,
   "metadata": {},
   "outputs": [],
   "source": [
    "def Tax(n, s):\n",
    "    plt.figure(figsize=(10,5))\n",
    "    \n",
    "    \n",
    "    f = Federal(n, s)\n",
    "    s = State(n, s)\n",
    "    \n",
    "    total_tax = f[2] + s[2]\n",
    "    \n",
    "    plt.grid()\n",
    "    plt.legend()\n",
    "    \n",
    "    print('Total Tax:',total_tax)\n",
    "    \n",
    "    return "
   ]
  },
  {
   "cell_type": "code",
   "execution_count": 81,
   "metadata": {},
   "outputs": [
    {
     "name": "stdout",
     "output_type": "stream",
     "text": [
      "Income: $ 40000\n",
      "Taxable income: $ 27800\n",
      "Federal Tax: $ 3142.25\n",
      "State Tax: $ 1181.46\n",
      "Total Tax: 4323.71\n"
     ]
    },
    {
     "data": {
      "image/png": "[encoded data removed]",
      "text/plain": [
       "<Figure size 720x360 with 1 Axes>"
      ]
     },
     "metadata": {
      "needs_background": "light"
     },
     "output_type": "display_data"
    }
   ],
   "source": [
    "Tax(40000, single)"
   ]
  },
  {
   "cell_type": "code",
   "execution_count": null,
   "metadata": {},
   "outputs": [],
   "source": []
  }
 ],
 "metadata": {
  "kernelspec": {
   "display_name": "Python 3",
   "language": "python",
   "name": "python3"
  },
  "language_info": {
   "codemirror_mode": {
    "name": "ipython",
    "version": 3
   },
   "file_extension": ".py",
   "mimetype": "text/x-python",
   "name": "python",
   "nbconvert_exporter": "python",
   "pygments_lexer": "ipython3",
   "version": "3.7.4"
  }
 },
 "nbformat": 4,
 "nbformat_minor": 2
}
